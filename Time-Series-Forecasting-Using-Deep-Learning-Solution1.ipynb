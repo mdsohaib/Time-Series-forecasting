{
 "cells": [
  {
   "cell_type": "code",
   "execution_count": 1,
   "metadata": {},
   "outputs": [
    {
     "name": "stderr",
     "output_type": "stream",
     "text": [
      "Using TensorFlow backend.\n"
     ]
    }
   ],
   "source": [
    "import numpy\n",
    "import pandas\n",
    "import math\n",
    "from keras.models import Sequential\n",
    "from keras.layers import Dense\n",
    "from keras.layers import LSTM"
   ]
  },
  {
   "cell_type": "code",
   "execution_count": 2,
   "metadata": {},
   "outputs": [],
   "source": [
    "import sklearn"
   ]
  },
  {
   "cell_type": "code",
   "execution_count": 3,
   "metadata": {},
   "outputs": [],
   "source": [
    "from sklearn.preprocessing import MinMaxScaler"
   ]
  },
  {
   "cell_type": "code",
   "execution_count": 4,
   "metadata": {},
   "outputs": [],
   "source": [
    "from sklearn.metrics import mean_squared_error"
   ]
  },
  {
   "cell_type": "code",
   "execution_count": 5,
   "metadata": {},
   "outputs": [],
   "source": [
    "# for reproducability of the results let's fix the seed function\n",
    "numpy.random.seed(1234)"
   ]
  },
  {
   "cell_type": "code",
   "execution_count": 6,
   "metadata": {},
   "outputs": [],
   "source": [
    "import pandas as pd\n",
    "import matplotlib.pyplot as plt\n",
    "%matplotlib inline\n",
    "#dataset = pandas.read_csv('C:/Users/Dell/Downloads/international-airline-passengers.csv',usecols=[1],engine='python',skipfooter=3)\n",
    "dataset= pd.read_csv('international-airline-passengers.csv',usecols=[1],engine='python',skipfooter=3)\n"
   ]
  },
  {
   "cell_type": "code",
   "execution_count": 7,
   "metadata": {},
   "outputs": [
    {
     "data": {
      "text/html": [
       "<div>\n",
       "<style scoped>\n",
       "    .dataframe tbody tr th:only-of-type {\n",
       "        vertical-align: middle;\n",
       "    }\n",
       "\n",
       "    .dataframe tbody tr th {\n",
       "        vertical-align: top;\n",
       "    }\n",
       "\n",
       "    .dataframe thead th {\n",
       "        text-align: right;\n",
       "    }\n",
       "</style>\n",
       "<table border=\"1\" class=\"dataframe\">\n",
       "  <thead>\n",
       "    <tr style=\"text-align: right;\">\n",
       "      <th></th>\n",
       "      <th>International airline passengers: monthly totals in thousands. Jan 49 ? Dec 60</th>\n",
       "    </tr>\n",
       "  </thead>\n",
       "  <tbody>\n",
       "    <tr>\n",
       "      <th>0</th>\n",
       "      <td>112</td>\n",
       "    </tr>\n",
       "    <tr>\n",
       "      <th>1</th>\n",
       "      <td>118</td>\n",
       "    </tr>\n",
       "    <tr>\n",
       "      <th>2</th>\n",
       "      <td>132</td>\n",
       "    </tr>\n",
       "    <tr>\n",
       "      <th>3</th>\n",
       "      <td>129</td>\n",
       "    </tr>\n",
       "    <tr>\n",
       "      <th>4</th>\n",
       "      <td>121</td>\n",
       "    </tr>\n",
       "  </tbody>\n",
       "</table>\n",
       "</div>"
      ],
      "text/plain": [
       "   International airline passengers: monthly totals in thousands. Jan 49 ? Dec 60\n",
       "0                                                112                             \n",
       "1                                                118                             \n",
       "2                                                132                             \n",
       "3                                                129                             \n",
       "4                                                121                             "
      ]
     },
     "execution_count": 7,
     "metadata": {},
     "output_type": "execute_result"
    }
   ],
   "source": [
    "dataset.head()"
   ]
  },
  {
   "cell_type": "code",
   "execution_count": 8,
   "metadata": {},
   "outputs": [],
   "source": [
    "dataset = dataset.values\n",
    "dataset = dataset.astype('float32')"
   ]
  },
  {
   "cell_type": "code",
   "execution_count": 9,
   "metadata": {},
   "outputs": [],
   "source": [
    "# normaliza the dataset\n",
    "scaler = MinMaxScaler(feature_range=(0,1))\n",
    "dataset = scaler.fit_transform(dataset)"
   ]
  },
  {
   "cell_type": "code",
   "execution_count": 10,
   "metadata": {},
   "outputs": [
    {
     "data": {
      "text/plain": [
       "array([[0.01544401],\n",
       "       [0.02702703],\n",
       "       [0.05405405],\n",
       "       [0.04826255],\n",
       "       [0.03281853],\n",
       "       [0.05984557],\n",
       "       [0.08494207],\n",
       "       [0.08494207],\n",
       "       [0.06177607],\n",
       "       [0.02895753],\n",
       "       [0.        ],\n",
       "       [0.02702703],\n",
       "       [0.02123553],\n",
       "       [0.04247104],\n",
       "       [0.07142857],\n",
       "       [0.05984557],\n",
       "       [0.04054055],\n",
       "       [0.08687258],\n",
       "       [0.12741312],\n",
       "       [0.12741312],\n",
       "       [0.10424709],\n",
       "       [0.05598456],\n",
       "       [0.01930502],\n",
       "       [0.06949806],\n",
       "       [0.07915059],\n",
       "       [0.08880308],\n",
       "       [0.14285713],\n",
       "       [0.11389962],\n",
       "       [0.13127413],\n",
       "       [0.14285713],\n",
       "       [0.18339768],\n",
       "       [0.18339768],\n",
       "       [0.15444016],\n",
       "       [0.11196911],\n",
       "       [0.08108109],\n",
       "       [0.1196911 ],\n",
       "       [0.12934363],\n",
       "       [0.14671814],\n",
       "       [0.17181468],\n",
       "       [0.14864865],\n",
       "       [0.15250966],\n",
       "       [0.22007722],\n",
       "       [0.24324325],\n",
       "       [0.26640925],\n",
       "       [0.2027027 ],\n",
       "       [0.16795367],\n",
       "       [0.13127413],\n",
       "       [0.17374519],\n",
       "       [0.17760617],\n",
       "       [0.17760617],\n",
       "       [0.25482625],\n",
       "       [0.25289574],\n",
       "       [0.24131274],\n",
       "       [0.26833975],\n",
       "       [0.3088803 ],\n",
       "       [0.32432434],\n",
       "       [0.25675675],\n",
       "       [0.20656371],\n",
       "       [0.14671814],\n",
       "       [0.18725869],\n",
       "       [0.19305018],\n",
       "       [0.16216215],\n",
       "       [0.25289574],\n",
       "       [0.23745173],\n",
       "       [0.25096524],\n",
       "       [0.3088803 ],\n",
       "       [0.38223937],\n",
       "       [0.36486486],\n",
       "       [0.2992278 ],\n",
       "       [0.24131274],\n",
       "       [0.1911197 ],\n",
       "       [0.24131274],\n",
       "       [0.26640925],\n",
       "       [0.24903473],\n",
       "       [0.31467178],\n",
       "       [0.3185328 ],\n",
       "       [0.32046333],\n",
       "       [0.4073359 ],\n",
       "       [0.5019305 ],\n",
       "       [0.46911195],\n",
       "       [0.40154442],\n",
       "       [0.32818535],\n",
       "       [0.25675675],\n",
       "       [0.3359073 ],\n",
       "       [0.34749034],\n",
       "       [0.33397684],\n",
       "       [0.41119692],\n",
       "       [0.4034749 ],\n",
       "       [0.4131274 ],\n",
       "       [0.52123547],\n",
       "       [0.5965251 ],\n",
       "       [0.58108103],\n",
       "       [0.484556  ],\n",
       "       [0.3899614 ],\n",
       "       [0.3223938 ],\n",
       "       [0.3899614 ],\n",
       "       [0.4073359 ],\n",
       "       [0.3803089 ],\n",
       "       [0.48648646],\n",
       "       [0.47104248],\n",
       "       [0.484556  ],\n",
       "       [0.6138996 ],\n",
       "       [0.6969112 ],\n",
       "       [0.70077217],\n",
       "       [0.57915056],\n",
       "       [0.46911195],\n",
       "       [0.38803086],\n",
       "       [0.44787642],\n",
       "       [0.45559844],\n",
       "       [0.4131274 ],\n",
       "       [0.4980695 ],\n",
       "       [0.47104248],\n",
       "       [0.49999997],\n",
       "       [0.6389961 ],\n",
       "       [0.7471043 ],\n",
       "       [0.7741313 ],\n",
       "       [0.57915056],\n",
       "       [0.492278  ],\n",
       "       [0.3976834 ],\n",
       "       [0.44980696],\n",
       "       [0.49420848],\n",
       "       [0.45945945],\n",
       "       [0.5830116 ],\n",
       "       [0.5637065 ],\n",
       "       [0.61003864],\n",
       "       [0.71042466],\n",
       "       [0.8571429 ],\n",
       "       [0.8783784 ],\n",
       "       [0.69305015],\n",
       "       [0.5849421 ],\n",
       "       [0.4980695 ],\n",
       "       [0.58108103],\n",
       "       [0.6042471 ],\n",
       "       [0.554054  ],\n",
       "       [0.60810804],\n",
       "       [0.6891892 ],\n",
       "       [0.71042466],\n",
       "       [0.8320464 ],\n",
       "       [1.        ],\n",
       "       [0.96911204],\n",
       "       [0.7799227 ],\n",
       "       [0.6891892 ],\n",
       "       [0.55212355],\n",
       "       [0.6332046 ]], dtype=float32)"
      ]
     },
     "execution_count": 10,
     "metadata": {},
     "output_type": "execute_result"
    }
   ],
   "source": [
    "dataset"
   ]
  },
  {
   "cell_type": "code",
   "execution_count": 11,
   "metadata": {},
   "outputs": [],
   "source": [
    "# split the dataset into train and test \n",
    "train_size = int(len(dataset)*0.67)"
   ]
  },
  {
   "cell_type": "code",
   "execution_count": 12,
   "metadata": {},
   "outputs": [
    {
     "name": "stdout",
     "output_type": "stream",
     "text": [
      "96\n"
     ]
    }
   ],
   "source": [
    "print(train_size)"
   ]
  },
  {
   "cell_type": "code",
   "execution_count": 13,
   "metadata": {},
   "outputs": [],
   "source": [
    "test_size = len(dataset) - train_size"
   ]
  },
  {
   "cell_type": "code",
   "execution_count": 14,
   "metadata": {},
   "outputs": [
    {
     "name": "stdout",
     "output_type": "stream",
     "text": [
      "48\n"
     ]
    }
   ],
   "source": [
    "print(test_size)"
   ]
  },
  {
   "cell_type": "code",
   "execution_count": 15,
   "metadata": {},
   "outputs": [],
   "source": [
    "train,test = dataset[0:train_size,:],dataset[train_size:len(dataset),:]"
   ]
  },
  {
   "cell_type": "code",
   "execution_count": 16,
   "metadata": {},
   "outputs": [
    {
     "name": "stdout",
     "output_type": "stream",
     "text": [
      "96 48\n"
     ]
    }
   ],
   "source": [
    "print(len(train), len(test))"
   ]
  },
  {
   "cell_type": "code",
   "execution_count": 17,
   "metadata": {},
   "outputs": [],
   "source": [
    "# create dataset matrix\n",
    "def create_dataset(dataset, look_back=1):\n",
    "    dataX, dataY = [], []\n",
    "    for i in range(len(dataset)-look_back-1):\n",
    "        a = dataset[i:(i+look_back),0]\n",
    "        dataX.append(a)\n",
    "        dataY.append(dataset[i+look_back,0])\n",
    "    return numpy.array(dataX),numpy.array(dataY)"
   ]
  },
  {
   "cell_type": "code",
   "execution_count": 18,
   "metadata": {},
   "outputs": [],
   "source": [
    "#reshape the dataset X =current time, and Yt+1 =future time period\n",
    "look_back =1\n",
    "trainX, trainY = create_dataset(train,look_back)\n",
    "testX, testY = create_dataset(test,look_back)"
   ]
  },
  {
   "cell_type": "code",
   "execution_count": 19,
   "metadata": {},
   "outputs": [],
   "source": [
    "trainX = numpy.reshape(trainX,(trainX.shape[0],1,trainX.shape[1]))\n",
    "testX = numpy.reshape(testX,(testX.shape[0],1,testX.shape[1]))"
   ]
  },
  {
   "cell_type": "code",
   "execution_count": 20,
   "metadata": {},
   "outputs": [
    {
     "name": "stdout",
     "output_type": "stream",
     "text": [
      "[[[0.4073359 ]]\n",
      "\n",
      " [[0.3803089 ]]\n",
      "\n",
      " [[0.48648646]]\n",
      "\n",
      " [[0.47104248]]\n",
      "\n",
      " [[0.484556  ]]\n",
      "\n",
      " [[0.6138996 ]]\n",
      "\n",
      " [[0.6969112 ]]\n",
      "\n",
      " [[0.70077217]]\n",
      "\n",
      " [[0.57915056]]\n",
      "\n",
      " [[0.46911195]]\n",
      "\n",
      " [[0.38803086]]\n",
      "\n",
      " [[0.44787642]]\n",
      "\n",
      " [[0.45559844]]\n",
      "\n",
      " [[0.4131274 ]]\n",
      "\n",
      " [[0.4980695 ]]\n",
      "\n",
      " [[0.47104248]]\n",
      "\n",
      " [[0.49999997]]\n",
      "\n",
      " [[0.6389961 ]]\n",
      "\n",
      " [[0.7471043 ]]\n",
      "\n",
      " [[0.7741313 ]]\n",
      "\n",
      " [[0.57915056]]\n",
      "\n",
      " [[0.492278  ]]\n",
      "\n",
      " [[0.3976834 ]]\n",
      "\n",
      " [[0.44980696]]\n",
      "\n",
      " [[0.49420848]]\n",
      "\n",
      " [[0.45945945]]\n",
      "\n",
      " [[0.5830116 ]]\n",
      "\n",
      " [[0.5637065 ]]\n",
      "\n",
      " [[0.61003864]]\n",
      "\n",
      " [[0.71042466]]\n",
      "\n",
      " [[0.8571429 ]]\n",
      "\n",
      " [[0.8783784 ]]\n",
      "\n",
      " [[0.69305015]]\n",
      "\n",
      " [[0.5849421 ]]\n",
      "\n",
      " [[0.4980695 ]]\n",
      "\n",
      " [[0.58108103]]\n",
      "\n",
      " [[0.6042471 ]]\n",
      "\n",
      " [[0.554054  ]]\n",
      "\n",
      " [[0.60810804]]\n",
      "\n",
      " [[0.6891892 ]]\n",
      "\n",
      " [[0.71042466]]\n",
      "\n",
      " [[0.8320464 ]]\n",
      "\n",
      " [[1.        ]]\n",
      "\n",
      " [[0.96911204]]\n",
      "\n",
      " [[0.7799227 ]]\n",
      "\n",
      " [[0.6891892 ]]]\n"
     ]
    }
   ],
   "source": [
    "print(testX)"
   ]
  },
  {
   "cell_type": "code",
   "execution_count": 21,
   "metadata": {},
   "outputs": [
    {
     "name": "stdout",
     "output_type": "stream",
     "text": [
      "Epoch 1/1\n",
      " - 2s - loss: 0.0330\n"
     ]
    },
    {
     "data": {
      "text/plain": [
       "<keras.callbacks.callbacks.History at 0x1e25ba0da58>"
      ]
     },
     "execution_count": 21,
     "metadata": {},
     "output_type": "execute_result"
    }
   ],
   "source": [
    "# let's create  a RNN or LSTM model\n",
    "model = Sequential()\n",
    "model.add(LSTM(4,input_shape=(1,look_back)))\n",
    "model.add(Dense(1))\n",
    "model.compile(loss='mean_squared_error',optimizer='adam')\n",
    "\n",
    "# fit the model\n",
    "model.fit(trainX,trainY,batch_size=1,verbose=2)"
   ]
  },
  {
   "cell_type": "code",
   "execution_count": 22,
   "metadata": {},
   "outputs": [],
   "source": [
    "# make predictions\n",
    "trainPredict = model.predict(trainX)\n",
    "testPredict = model.predict(testX)"
   ]
  },
  {
   "cell_type": "code",
   "execution_count": 23,
   "metadata": {},
   "outputs": [
    {
     "name": "stdout",
     "output_type": "stream",
     "text": [
      "[[0.10216756]\n",
      " [0.10405409]\n",
      " [0.10845263]\n",
      " [0.10751058]\n",
      " [0.10499708]\n",
      " [0.10939435]\n",
      " [0.11347069]\n",
      " [0.11347069]\n",
      " [0.10970818]\n",
      " [0.10436845]\n",
      " [0.09965138]\n",
      " [0.10405409]\n",
      " [0.10311091]\n",
      " [0.10656823]\n",
      " [0.1112767 ]\n",
      " [0.10939435]\n",
      " [0.10625407]\n",
      " [0.11378391]\n",
      " [0.12034757]\n",
      " [0.12034757]\n",
      " [0.11660038]\n",
      " [0.10876657]\n",
      " [0.10279648]\n",
      " [0.11096308]\n",
      " [0.11253071]\n",
      " [0.11409708]\n",
      " [0.12283977]\n",
      " [0.11816292]\n",
      " [0.12097108]\n",
      " [0.12283977]\n",
      " [0.12935501]\n",
      " [0.12935501]\n",
      " [0.12470543]\n",
      " [0.11785054]\n",
      " [0.11284408]\n",
      " [0.11909962]\n",
      " [0.12065937]\n",
      " [0.123462  ]\n",
      " [0.12749782]\n",
      " [0.12377299]\n",
      " [0.12439471]\n",
      " [0.13521035]\n",
      " [0.13888603]\n",
      " [0.14254245]\n",
      " [0.13244188]\n",
      " [0.12687796]\n",
      " [0.12097108]\n",
      " [0.1278076 ]\n",
      " [0.12842688]\n",
      " [0.12842688]\n",
      " [0.14071676]\n",
      " [0.14041199]\n",
      " [0.13858047]\n",
      " [0.14284623]\n",
      " [0.14919057]\n",
      " [0.15158887]\n",
      " [0.1410214 ]\n",
      " [0.13305792]\n",
      " [0.123462  ]\n",
      " [0.12997326]\n",
      " [0.13089982]\n",
      " [0.12594743]\n",
      " [0.14041199]\n",
      " [0.13796887]\n",
      " [0.14010707]\n",
      " [0.14919057]\n",
      " [0.1604814 ]\n",
      " [0.15783113]\n",
      " [0.1476863 ]\n",
      " [0.13858047]\n",
      " [0.13059106]\n",
      " [0.13858047]\n",
      " [0.14254245]\n",
      " [0.13980202]\n",
      " [0.15009117]\n",
      " [0.15069076]\n",
      " [0.1509903 ]\n",
      " [0.16428146]\n",
      " [0.1782798 ]\n",
      " [0.1734843 ]\n",
      " [0.16340755]\n",
      " [0.15218674]\n",
      " [0.1410214 ]\n",
      " [0.15338041]\n",
      " [0.15516561]\n",
      " [0.15308225]\n",
      " [0.16486305]\n",
      " [0.16369906]\n",
      " [0.16515353]\n",
      " [0.1810686 ]\n",
      " [0.19170505]\n",
      " [0.18955532]\n",
      " [0.17574944]\n",
      " [0.16165423]]\n"
     ]
    }
   ],
   "source": [
    "print(trainPredict)"
   ]
  },
  {
   "cell_type": "code",
   "execution_count": 24,
   "metadata": {},
   "outputs": [
    {
     "name": "stdout",
     "output_type": "stream",
     "text": [
      "[[0.16428146]\n",
      " [0.16018769]\n",
      " [0.17603153]\n",
      " [0.17376828]\n",
      " [0.17574944]\n",
      " [0.19410309]\n",
      " [0.20525071]\n",
      " [0.20575637]\n",
      " [0.18928543]\n",
      " [0.1734843 ]\n",
      " [0.16136132]\n",
      " [0.17034604]\n",
      " [0.17149037]\n",
      " [0.16515353]\n",
      " [0.17771918]\n",
      " [0.17376828]\n",
      " [0.1779996 ]\n",
      " [0.19752797]\n",
      " [0.21173275]\n",
      " [0.21513948]\n",
      " [0.18928543]\n",
      " [0.17687643]\n",
      " [0.16282393]\n",
      " [0.17063245]\n",
      " [0.17715755]\n",
      " [0.1720612 ]\n",
      " [0.18982497]\n",
      " [0.18711673]\n",
      " [0.1935721 ]\n",
      " [0.20701542]\n",
      " [0.22522703]\n",
      " [0.22771472]\n",
      " [0.20474389]\n",
      " [0.19009435]\n",
      " [0.17771918]\n",
      " [0.18955532]\n",
      " [0.19277355]\n",
      " [0.18575293]\n",
      " [0.19330615]\n",
      " [0.20423588]\n",
      " [0.20701542]\n",
      " [0.22223791]\n",
      " [0.24121699]\n",
      " [0.23790908]\n",
      " [0.21586177]\n",
      " [0.20423588]]\n"
     ]
    }
   ],
   "source": [
    "print(testPredict)"
   ]
  },
  {
   "cell_type": "code",
   "execution_count": 25,
   "metadata": {},
   "outputs": [],
   "source": [
    "# reverse the predicted values to thee actual time series values using inverse tranform function\n",
    "trainPredict = scaler.inverse_transform(trainPredict) \n",
    "testPredict = scaler.inverse_transform(testPredict)\n",
    "\n",
    "trainY = scaler.inverse_transform([trainY])\n",
    "testY = scaler.inverse_transform([testY])"
   ]
  },
  {
   "cell_type": "code",
   "execution_count": 26,
   "metadata": {},
   "outputs": [
    {
     "name": "stdout",
     "output_type": "stream",
     "text": [
      "[[156.9228 ]\n",
      " [157.90002]\n",
      " [160.17847]\n",
      " [159.69049]\n",
      " [158.38849]\n",
      " [160.66628]\n",
      " [162.77783]\n",
      " [162.77783]\n",
      " [160.82883]\n",
      " [158.06285]\n",
      " [155.61942]\n",
      " [157.90002]\n",
      " [157.41145]\n",
      " [159.20235]\n",
      " [161.64134]\n",
      " [160.66628]\n",
      " [159.03961]\n",
      " [162.94008]\n",
      " [166.34006]\n",
      " [166.34006]\n",
      " [164.39899]\n",
      " [160.3411 ]\n",
      " [157.24857]\n",
      " [161.47887]\n",
      " [162.29091]\n",
      " [163.1023 ]\n",
      " [167.63101]\n",
      " [165.20839]\n",
      " [166.66302]\n",
      " [167.63101]\n",
      " [171.0059 ]\n",
      " [171.0059 ]\n",
      " [168.59741]\n",
      " [165.04659]\n",
      " [162.45323]\n",
      " [165.6936 ]\n",
      " [166.50156]\n",
      " [167.95331]\n",
      " [170.04387]\n",
      " [168.11443]\n",
      " [168.43646]\n",
      " [174.03897]\n",
      " [175.94296]\n",
      " [177.83699]\n",
      " [172.60489]\n",
      " [169.72278]\n",
      " [166.66302]\n",
      " [170.20433]\n",
      " [170.52513]\n",
      " [170.52513]\n",
      " [176.89128]\n",
      " [176.73341]\n",
      " [175.78468]\n",
      " [177.99434]\n",
      " [181.28072]\n",
      " [182.52304]\n",
      " [177.04909]\n",
      " [172.92401]\n",
      " [167.95331]\n",
      " [171.32616]\n",
      " [171.8061 ]\n",
      " [169.24078]\n",
      " [176.73341]\n",
      " [175.46788]\n",
      " [176.57545]\n",
      " [181.28072]\n",
      " [187.12936]\n",
      " [185.75653]\n",
      " [180.50151]\n",
      " [175.78468]\n",
      " [171.64618]\n",
      " [175.78468]\n",
      " [177.83699]\n",
      " [176.41743]\n",
      " [181.74722]\n",
      " [182.05782]\n",
      " [182.21298]\n",
      " [189.0978 ]\n",
      " [196.34894]\n",
      " [193.86487]\n",
      " [188.64511]\n",
      " [182.83272]\n",
      " [177.04909]\n",
      " [183.45107]\n",
      " [184.3758 ]\n",
      " [183.2966 ]\n",
      " [189.39906]\n",
      " [188.79611]\n",
      " [189.54953]\n",
      " [197.79353]\n",
      " [203.30322]\n",
      " [202.18965]\n",
      " [195.03822]\n",
      " [187.7369 ]] [[117.99999916 131.99999879 129.00000163 120.99999632 135.00000368\n",
      "  147.99999397 147.99999397 136.00000531 119.00000078 103.99999952\n",
      "  117.99999916 115.00000199 125.99999674 140.99999801 135.00000368\n",
      "  125.00000283 148.9999956  169.99999891 169.99999891 157.99999481\n",
      "  133.00000042 114.00000036 139.99999638 145.00000452 149.99999723\n",
      "  177.9999965  163.00000295 172.00000217 177.9999965  198.99999982\n",
      "  198.99999982 184.00000627 162.00000133 146.00000615 165.9999924\n",
      "  171.00000054 179.99999976 193.00000549 181.00000139 183.00000464\n",
      "  217.99999988 230.00000398 241.99999264 209.00000066 191.00000223\n",
      "  172.00000217 194.00000712 195.99999493 195.99999493 235.99999831\n",
      "  234.99999668 229.00000235 242.99999427 263.99999759 272.00001061\n",
      "  236.99999994 211.00000392 179.99999976 201.00000308 203.99999252\n",
      "  187.99999735 234.99999668 226.9999991  233.99999506 263.99999759\n",
      "  301.99999771 292.99999849 259.00000488 229.00000235 203.00000633\n",
      "  229.00000235 241.99999264 232.99999343 266.99998703 268.99999029\n",
      "  270.00000736 315.00000344 363.99999059 346.99999379 312.00001399\n",
      "  274.00001387 236.99999994 277.99998951 283.99999928 277.00000332\n",
      "  317.00000669 313.00000018 317.99999288 373.999976   412.99999319\n",
      "  404.99998016 355.00000681 306.00000422 270.99999355]]\n"
     ]
    }
   ],
   "source": [
    "print(trainPredict, trainY)"
   ]
  },
  {
   "cell_type": "code",
   "execution_count": 27,
   "metadata": {},
   "outputs": [
    {
     "name": "stdout",
     "output_type": "stream",
     "text": [
      "[[189.0978 ]\n",
      " [186.97722]\n",
      " [195.18433]\n",
      " [194.01198]\n",
      " [195.03822]\n",
      " [204.54541]\n",
      " [210.31987]\n",
      " [210.5818 ]\n",
      " [202.04985]\n",
      " [193.86487]\n",
      " [187.58516]\n",
      " [192.23926]\n",
      " [192.83202]\n",
      " [189.54953]\n",
      " [196.05853]\n",
      " [194.01198]\n",
      " [196.20378]\n",
      " [206.31949]\n",
      " [213.67757]\n",
      " [215.44225]\n",
      " [202.04985]\n",
      " [195.622  ]\n",
      " [188.3428 ]\n",
      " [192.3876 ]\n",
      " [195.76761]\n",
      " [193.1277 ]\n",
      " [202.32933]\n",
      " [200.92645]\n",
      " [204.27036]\n",
      " [211.234  ]\n",
      " [220.6676 ]\n",
      " [221.95622]\n",
      " [210.05734]\n",
      " [202.46887]\n",
      " [196.05853]\n",
      " [202.18965]\n",
      " [203.8567 ]\n",
      " [200.22002]\n",
      " [204.13258]\n",
      " [209.79419]\n",
      " [211.234  ]\n",
      " [219.11925]\n",
      " [228.95041]\n",
      " [227.23691]\n",
      " [215.81639]\n",
      " [209.79419]] [[301.00001152 355.999993   348.00001085 355.00000681 421.9999924\n",
      "  465.0000161  466.99998848 403.99999397 346.99999379 304.99998716\n",
      "  335.99999132 339.99999783 317.99999288 362.00000277 348.00001085\n",
      "  362.99998896 434.99999813 491.00002756 505.00001948 403.99999397\n",
      "  359.00001333 310.00001073 337.00000838 359.99999952 342.00000109\n",
      "  406.0000281  395.99998094 420.00002002 471.99998119 548.00004318\n",
      "  559.00001477 462.99998197 407.00001429 362.00000277 404.99998016\n",
      "  416.9999997  390.99998824 418.99997208 461.00000959 471.99998119\n",
      "  535.00003745 622.00000929 606.00004499 507.99997805 461.00000959\n",
      "  390.00000205]]\n"
     ]
    }
   ],
   "source": [
    "print(testPredict, testY)"
   ]
  },
  {
   "cell_type": "code",
   "execution_count": 28,
   "metadata": {},
   "outputs": [
    {
     "name": "stdout",
     "output_type": "stream",
     "text": [
      "Train Score: 72.92 RMSE\n"
     ]
    }
   ],
   "source": [
    "# calculate the RMSE root mean square error\n",
    "trainScore = math.sqrt(mean_squared_error(trainY[0],trainPredict[:,0]))\n",
    "print ('Train Score: %.2f RMSE' % (trainScore))"
   ]
  },
  {
   "cell_type": "code",
   "execution_count": 29,
   "metadata": {},
   "outputs": [
    {
     "name": "stdout",
     "output_type": "stream",
     "text": [
      "Test Score: 223.41 RMSE\n"
     ]
    }
   ],
   "source": [
    "testScore = math.sqrt(mean_squared_error(testY[0],testPredict[:,0]))\n",
    "print ('Test Score: %.2f RMSE' % (testScore))"
   ]
  },
  {
   "cell_type": "code",
   "execution_count": null,
   "metadata": {},
   "outputs": [],
   "source": []
  }
 ],
 "metadata": {
  "anaconda-cloud": {},
  "kernelspec": {
   "display_name": "Python 3",
   "language": "python",
   "name": "python3"
  },
  "language_info": {
   "codemirror_mode": {
    "name": "ipython",
    "version": 3
   },
   "file_extension": ".py",
   "mimetype": "text/x-python",
   "name": "python",
   "nbconvert_exporter": "python",
   "pygments_lexer": "ipython3",
   "version": "3.7.3"
  }
 },
 "nbformat": 4,
 "nbformat_minor": 1
}
